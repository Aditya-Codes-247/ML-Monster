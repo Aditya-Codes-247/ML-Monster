{
 "cells": [
  {
   "cell_type": "markdown",
   "metadata": {},
   "source": [
    "Imports"
   ]
  },
  {
   "cell_type": "code",
   "execution_count": 1,
   "metadata": {},
   "outputs": [],
   "source": [
    "import numpy as np\n",
    "import pandas as pd\n",
    "from sklearn.model_selection import train_test_split\n",
    "from sklearn.datasets import load_breast_cancer\n",
    "from sklearn.metrics import mean_squared_error\n",
    "from sklearn.preprocessing import StandardScaler"
   ]
  },
  {
   "cell_type": "markdown",
   "metadata": {},
   "source": [
    "Loading Dataset"
   ]
  },
  {
   "cell_type": "code",
   "execution_count": 23,
   "metadata": {},
   "outputs": [],
   "source": [
    "b_cancer = load_breast_cancer()\n",
    "X = b_cancer.data\n",
    "y = b_cancer.target\n",
    "df = pd.DataFrame(X,columns=b_cancer.feature_names)\n",
    "df['target'] = y"
   ]
  },
  {
   "cell_type": "markdown",
   "metadata": {},
   "source": [
    "Pre-Processing the Data: "
   ]
  },
  {
   "cell_type": "code",
   "execution_count": 24,
   "metadata": {},
   "outputs": [
    {
     "name": "stdout",
     "output_type": "stream",
     "text": [
      "float64\n",
      "float64\n"
     ]
    }
   ],
   "source": [
    "X_train,X_test,y_train,y_test = train_test_split(X,y,test_size=0.2,random_state=42)\n",
    "scaler = StandardScaler()\n",
    "X_train = scaler.fit_transform(X_train)\n",
    "X_test = scaler.fit_transform(X_test)\n",
    "print(X_train.dtype)\n",
    "print(X_test.dtype)"
   ]
  },
  {
   "cell_type": "markdown",
   "metadata": {},
   "source": [
    "Initializing Parameters: "
   ]
  },
  {
   "cell_type": "code",
   "execution_count": 25,
   "metadata": {},
   "outputs": [],
   "source": [
    "def initialize_parameter(n_features):\n",
    "    W = np.zeros(n_features)\n",
    "    b = 0\n",
    "    return W, b"
   ]
  },
  {
   "cell_type": "markdown",
   "metadata": {},
   "source": [
    "Defining the Loss function with both Lasso and Ridge penalties"
   ]
  },
  {
   "cell_type": "code",
   "execution_count": 26,
   "metadata": {},
   "outputs": [],
   "source": [
    "def loss_function(X,y,W,b,alpha,l1_ratio):\n",
    "    n_samples = X.shape[0]\n",
    "    y_pred = np.dot(X,W) + b\n",
    "    mse = (1/(2*n_samples))*np.sum((y_pred-y)**2)\n",
    "    l1_penalty = l1_ratio*np.sum(np.abs(W))\n",
    "    l2_penalty = (1-l1_ratio)*np.sum(W**2)\n",
    "    cost = mse + alpha*(l1_penalty+l2_penalty)\n",
    "    return cost"
   ]
  },
  {
   "cell_type": "markdown",
   "metadata": {},
   "source": [
    "Defining Gradient Descent Function: "
   ]
  },
  {
   "cell_type": "code",
   "execution_count": 27,
   "metadata": {},
   "outputs": [],
   "source": [
    "def gradient_descent(X,y,W,b,alpha,l1_ratio, learning_rate, n_iterations):\n",
    "    n_samples = X.shape[0]\n",
    "    for i in range(n_iterations):\n",
    "        y_pred = np.dot(X,W)+b\n",
    "        dW = (1/n_samples)*np.dot(X.T,(y_pred-y))+alpha*(l1_ratio*np.sign(W)+2*(1-l1_ratio)*W)\n",
    "        db = (1/n_samples)*np.sum(y_pred - y)\n",
    "        W -= learning_rate*dW\n",
    "        b -= learning_rate*db\n",
    "    return W,b\n"
   ]
  },
  {
   "cell_type": "markdown",
   "metadata": {},
   "source": [
    "Training the Elastic Net Model: "
   ]
  },
  {
   "cell_type": "code",
   "execution_count": 28,
   "metadata": {},
   "outputs": [],
   "source": [
    "alpha = 0.1\n",
    "l1_ratio = 0.5\n",
    "learning_rate = 0.01\n",
    "n_iterations = 1000\n",
    "n_features = X_train.shape[1]\n",
    "W,b = initialize_parameter(n_features)\n",
    "W,b = gradient_descent(X_train,y_train,W,b,alpha,l1_ratio,learning_rate,n_iterations)"
   ]
  },
  {
   "cell_type": "markdown",
   "metadata": {},
   "source": [
    "Making Predictions on the testing data"
   ]
  },
  {
   "cell_type": "code",
   "execution_count": 30,
   "metadata": {},
   "outputs": [
    {
     "name": "stdout",
     "output_type": "stream",
     "text": [
      "Training MSE: 0.0710958655676084\n",
      "Testing MSE: 0.06832900950353858\n"
     ]
    }
   ],
   "source": [
    "def predict(X,W,b):\n",
    "    return np.dot(X,W)+b\n",
    "\n",
    "y_train_pred = predict(X_train,W,b)\n",
    "y_test_pred = predict(X_test,W,b)\n",
    "\n",
    "train_mse = mean_squared_error(y_train,y_train_pred)\n",
    "test_mse = mean_squared_error(y_test,y_test_pred)\n",
    "\n",
    "print(f'Training MSE: {train_mse}')\n",
    "print(f'Testing MSE: {test_mse}')"
   ]
  }
 ],
 "metadata": {
  "kernelspec": {
   "display_name": "Python 3",
   "language": "python",
   "name": "python3"
  },
  "language_info": {
   "codemirror_mode": {
    "name": "ipython",
    "version": 3
   },
   "file_extension": ".py",
   "mimetype": "text/x-python",
   "name": "python",
   "nbconvert_exporter": "python",
   "pygments_lexer": "ipython3",
   "version": "3.12.3"
  }
 },
 "nbformat": 4,
 "nbformat_minor": 2
}
