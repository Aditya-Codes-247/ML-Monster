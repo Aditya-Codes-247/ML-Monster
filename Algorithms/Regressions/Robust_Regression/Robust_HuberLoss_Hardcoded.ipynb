{
 "cells": [
  {
   "cell_type": "markdown",
   "metadata": {},
   "source": [
    "Imports"
   ]
  },
  {
   "cell_type": "code",
   "execution_count": 1,
   "metadata": {},
   "outputs": [],
   "source": [
    "import numpy as np\n",
    "from sklearn.datasets import load_diabetes\n",
    "from sklearn.model_selection import train_test_split\n",
    "from sklearn.preprocessing import StandardScaler"
   ]
  },
  {
   "cell_type": "markdown",
   "metadata": {},
   "source": [
    "Loading and Pre-Processing the diabetes dataset "
   ]
  },
  {
   "cell_type": "code",
   "execution_count": 2,
   "metadata": {},
   "outputs": [],
   "source": [
    "diabetes = load_diabetes()\n",
    "X, y = diabetes.data, diabetes.target\n",
    "scaler = StandardScaler()\n",
    "X = scaler.fit_transform(X)\n",
    "X_train, X_test, y_train, y_test = train_test_split(X, y, test_size=0.2, random_state=42)\n"
   ]
  },
  {
   "cell_type": "markdown",
   "metadata": {},
   "source": [
    "Defining Huber Loss Function"
   ]
  },
  {
   "cell_type": "code",
   "execution_count": 3,
   "metadata": {},
   "outputs": [],
   "source": [
    "def huber_loss(y_true, y_pred, delta=1.0):\n",
    "    error = y_true - y_pred\n",
    "    is_small_error = np.abs(error) <= delta\n",
    "    small_error_loss = 0.5 * error**2\n",
    "    large_error_loss = delta * (np.abs(error) - 0.5 * delta)\n",
    "    return np.where(is_small_error, small_error_loss, large_error_loss)\n"
   ]
  },
  {
   "cell_type": "markdown",
   "metadata": {},
   "source": [
    "Defining the Gradient of the Huber Loss function"
   ]
  },
  {
   "cell_type": "code",
   "execution_count": 4,
   "metadata": {},
   "outputs": [],
   "source": [
    "def huber_loss_gradient(X, y_true, y_pred, delta=1.0):\n",
    "    error = y_true - y_pred\n",
    "    is_small_error = np.abs(error) <= delta\n",
    "    small_error_gradient = -error\n",
    "    large_error_gradient = -delta * np.sign(error)\n",
    "    return np.where(is_small_error, small_error_gradient, large_error_gradient) @ X / len(y_true)"
   ]
  },
  {
   "cell_type": "markdown",
   "metadata": {},
   "source": [
    "Defining the Gradient Descent Algorithm"
   ]
  },
  {
   "cell_type": "code",
   "execution_count": 8,
   "metadata": {},
   "outputs": [],
   "source": [
    "def gradient_descent(X, y, learning_rate=0.01, epochs=1000, delta=1.0):\n",
    "    m, n = X.shape\n",
    "    weights = np.zeros(n)\n",
    "    bias = 0\n",
    "\n",
    "    for epoch in range(0,1000):\n",
    "        y_pred = X @ weights + bias\n",
    "        loss = huber_loss(y, y_pred, delta).mean()\n",
    "        gradient = huber_loss_gradient(X, y, y_pred, delta)\n",
    "        \n",
    "        # Update weights and bias\n",
    "        weights -= learning_rate * gradient\n",
    "        bias -= learning_rate * gradient.mean()\n",
    "\n",
    "        if epoch % 100 == 0:\n",
    "            print(f'Epoch {epoch}, Loss: {loss}')\n",
    "\n",
    "    return weights, bias\n"
   ]
  },
  {
   "cell_type": "markdown",
   "metadata": {},
   "source": [
    "Defining the Prediction Functino"
   ]
  },
  {
   "cell_type": "code",
   "execution_count": 10,
   "metadata": {},
   "outputs": [],
   "source": [
    "def predict(X, weights, bias):\n",
    "    return X @ weights + bias\n"
   ]
  },
  {
   "cell_type": "markdown",
   "metadata": {},
   "source": [
    "Training the Model"
   ]
  },
  {
   "cell_type": "code",
   "execution_count": 11,
   "metadata": {},
   "outputs": [
    {
     "name": "stdout",
     "output_type": "stream",
     "text": [
      "Epoch 0, Loss: 153.23654390934846\n",
      "Epoch 100, Loss: 153.21858249435303\n",
      "Epoch 200, Loss: 153.20062107935763\n",
      "Epoch 300, Loss: 153.1826596643622\n",
      "Epoch 400, Loss: 153.1646982493668\n",
      "Epoch 500, Loss: 153.1467368343714\n",
      "Epoch 600, Loss: 153.12877541937598\n",
      "Epoch 700, Loss: 153.1108140043806\n",
      "Epoch 800, Loss: 153.09285258938516\n",
      "Epoch 900, Loss: 153.07489117438976\n"
     ]
    }
   ],
   "source": [
    "weights, bias = gradient_descent(X_train, y_train)"
   ]
  },
  {
   "cell_type": "markdown",
   "metadata": {},
   "source": [
    "Evaluating the Model"
   ]
  },
  {
   "cell_type": "code",
   "execution_count": 12,
   "metadata": {},
   "outputs": [
    {
     "name": "stdout",
     "output_type": "stream",
     "text": [
      "Training MAE: 153.55692975939434\n",
      "Test MAE: 145.89527536530764\n"
     ]
    }
   ],
   "source": [
    "y_pred_train = predict(X_train, weights, bias)\n",
    "y_pred_test = predict(X_test, weights, bias)\n",
    "# Mean Absolute Error (MAE)\n",
    "mae_train = np.mean(np.abs(y_train - y_pred_train))\n",
    "mae_test = np.mean(np.abs(y_test - y_pred_test))\n",
    "print(f'Training MAE: {mae_train}')\n",
    "print(f'Test MAE: {mae_test}')\n"
   ]
  }
 ],
 "metadata": {
  "kernelspec": {
   "display_name": "Python 3",
   "language": "python",
   "name": "python3"
  },
  "language_info": {
   "codemirror_mode": {
    "name": "ipython",
    "version": 3
   },
   "file_extension": ".py",
   "mimetype": "text/x-python",
   "name": "python",
   "nbconvert_exporter": "python",
   "pygments_lexer": "ipython3",
   "version": "3.12.3"
  }
 },
 "nbformat": 4,
 "nbformat_minor": 2
}
