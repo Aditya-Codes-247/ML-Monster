{
 "cells": [
  {
   "cell_type": "markdown",
   "id": "ccc030c028ccb5d6",
   "metadata": {},
   "source": [
    "General Linear Regression Models (Simple, Multiple, Polynomial Linear Regression)"
   ]
  },
  {
   "cell_type": "markdown",
   "id": "d708f527e0a426a4",
   "metadata": {},
   "source": [
    "Simple Linear Regression (California Housing Dataset) : "
   ]
  },
  {
   "cell_type": "markdown",
   "id": "b299707de3ccfa93",
   "metadata": {},
   "source": [
    "Imports: "
   ]
  },
  {
   "cell_type": "code",
   "execution_count": 1,
   "id": "initial_id",
   "metadata": {
    "ExecuteTime": {
     "end_time": "2024-06-16T09:26:04.914474Z",
     "start_time": "2024-06-16T09:26:02.149892Z"
    },
    "collapsed": true
   },
   "outputs": [],
   "source": [
    "import pandas as pd\n",
    "import numpy as np\n",
    "import math\n",
    "import matplotlib.pyplot as plt\n",
    "from sklearn.datasets import fetch_california_housing\n",
    "from sklearn.model_selection import train_test_split\n"
   ]
  },
  {
   "cell_type": "markdown",
   "id": "148d50d7a6ef84a5",
   "metadata": {},
   "source": [
    "Loading the Dataset"
   ]
  },
  {
   "cell_type": "code",
   "execution_count": 2,
   "id": "fdfaf13714968495",
   "metadata": {
    "ExecuteTime": {
     "end_time": "2024-06-16T09:26:08.354291Z",
     "start_time": "2024-06-16T09:26:08.310677Z"
    }
   },
   "outputs": [
    {
     "name": "stdout",
     "output_type": "stream",
     "text": [
      "   MedInc  HouseAge  AveRooms  AveBedrms  Population  AveOccup  Latitude  \\\n",
      "0  8.3252      41.0  6.984127   1.023810       322.0  2.555556     37.88   \n",
      "1  8.3014      21.0  6.238137   0.971880      2401.0  2.109842     37.86   \n",
      "2  7.2574      52.0  8.288136   1.073446       496.0  2.802260     37.85   \n",
      "3  5.6431      52.0  5.817352   1.073059       558.0  2.547945     37.85   \n",
      "4  3.8462      52.0  6.281853   1.081081       565.0  2.181467     37.85   \n",
      "\n",
      "   Longitude  \n",
      "0    -122.23  \n",
      "1    -122.22  \n",
      "2    -122.24  \n",
      "3    -122.25  \n",
      "4    -122.25  \n"
     ]
    }
   ],
   "source": [
    "housing = fetch_california_housing()\n",
    "df = pd.DataFrame(housing.data, columns=housing.feature_names)\n",
    "print(df.head())\n",
    "#Find the Exploratory Data Analysis of the California Housing Dataset in the Data_Analysis Folder\n"
   ]
  },
  {
   "cell_type": "code",
   "execution_count": 3,
   "id": "2696a65e389bece2",
   "metadata": {
    "ExecuteTime": {
     "end_time": "2024-06-16T09:28:54.187096Z",
     "start_time": "2024-06-16T09:28:54.167138Z"
    }
   },
   "outputs": [
    {
     "name": "stdout",
     "output_type": "stream",
     "text": [
      "Column Names: \n",
      "Index(['MedInc', 'HouseAge', 'AveRooms', 'AveBedrms', 'Population', 'AveOccup',\n",
      "       'Latitude', 'Longitude'],\n",
      "      dtype='object')\n"
     ]
    }
   ],
   "source": [
    "print(\"Column Names: \")\n",
    "print(df.columns)\n",
    "\n",
    "X = df['AveRooms']\n",
    "y = df['MedInc']\n",
    "X_train, X_test, y_train, y_test = train_test_split(X, y, test_size=0.2, random_state=42)\n"
   ]
  },
  {
   "cell_type": "code",
   "execution_count": 4,
   "id": "45cff3c77e8cf847",
   "metadata": {
    "ExecuteTime": {
     "end_time": "2024-06-16T09:31:53.661329Z",
     "start_time": "2024-06-16T09:31:53.654879Z"
    }
   },
   "outputs": [],
   "source": [
    "#Funtions for simple linear regression:\n",
    "\n",
    "# Helper Function for MSE: \n",
    "def mean_squared_error(y_true, y_pred):\n",
    "    return np.mean((y_true - y_pred) ** 2)\n",
    "\n",
    "\n",
    "# Helper Function to fit model:\n",
    "def fit_linear_regression(X, y):\n",
    "    X = np.c_[np.ones(X.shape[0]), X]\n",
    "    theta = np.linalg.inv(X.T.dot(X)).dot(X.T).dot(y)\n",
    "    return theta[0], theta[1]\n",
    "\n",
    "# Helper Function to make predictions: \n",
    "def predict(X, theta_0, theta_1):\n",
    "    return theta_0 + theta_1 * X\n",
    "\n",
    "\n",
    "# Helper function to get R2 score for model evaluation: \n",
    "def r2_score(y_true, y_pred):\n",
    "    numerator = np.sum((y_true - y_pred) ** 2)\n",
    "    denominator = np.sum((y_true - np.mean(y_true)) ** 2)\n",
    "    return 1 - (numerator / denominator)\n"
   ]
  },
  {
   "cell_type": "code",
   "execution_count": 5,
   "id": "707a953956917ea",
   "metadata": {
    "ExecuteTime": {
     "end_time": "2024-06-16T09:33:56.775245Z",
     "start_time": "2024-06-16T09:33:56.761156Z"
    }
   },
   "outputs": [
    {
     "name": "stdout",
     "output_type": "stream",
     "text": [
      "Intercept: 2.42, Slope: 0.27\n"
     ]
    }
   ],
   "source": [
    "#Training the model\n",
    "intercept, slope = fit_linear_regression(X_train, y_train)\n",
    "print(f\"Intercept: {intercept:.2f}, Slope: {slope:.2f}\")\n"
   ]
  },
  {
   "cell_type": "code",
   "execution_count": 6,
   "id": "68c6575a59e8a700",
   "metadata": {
    "ExecuteTime": {
     "end_time": "2024-06-16T09:37:23.220246Z",
     "start_time": "2024-06-16T09:37:23.204331Z"
    }
   },
   "outputs": [
    {
     "name": "stdout",
     "output_type": "stream",
     "text": [
      "Mean Squared Error: 3.26\n",
      "R-squared: 0.08\n"
     ]
    }
   ],
   "source": [
    "#Predictions on the test set\n",
    "y_pred = predict(X_test, intercept, slope)\n",
    "#Calculate mean squared error and R-squared score\n",
    "mse = mean_squared_error(y_test, y_pred)\n",
    "r2 = r2_score(y_test, y_pred)\n",
    "print(f\"Mean Squared Error: {mse:.2f}\")\n",
    "print(f\"R-squared: {r2:.2f}\")\n"
   ]
  },
  {
   "cell_type": "markdown",
   "id": "31ab2b9d082b2eb5",
   "metadata": {},
   "source": [
    "Multiple Linear Regression (Boston Dataset) : "
   ]
  },
  {
   "cell_type": "markdown",
   "id": "88c304f9691211bd",
   "metadata": {},
   "source": [
    "Imports: "
   ]
  },
  {
   "cell_type": "code",
   "execution_count": 7,
   "id": "3d8cd907297e4ff6",
   "metadata": {
    "ExecuteTime": {
     "end_time": "2024-06-28T10:47:09.848185Z",
     "start_time": "2024-06-28T10:47:09.832253Z"
    }
   },
   "outputs": [],
   "source": [
    "import numpy as np\n",
    "import pandas as pd\n",
    "from sklearn.preprocessing import StandardScaler\n",
    "from sklearn.model_selection import train_test_split\n",
    "from sklearn.metrics import mean_squared_error\n",
    "import kaggle\n",
    "import os\n"
   ]
  },
  {
   "cell_type": "markdown",
   "id": "ecce06568fda7dc8",
   "metadata": {},
   "source": [
    "Loading Dataset: "
   ]
  },
  {
   "cell_type": "code",
   "execution_count": 8,
   "id": "dda8c070031531c8",
   "metadata": {
    "ExecuteTime": {
     "end_time": "2024-06-28T10:47:14.539996Z",
     "start_time": "2024-06-28T10:47:13.417485Z"
    }
   },
   "outputs": [
    {
     "name": "stdout",
     "output_type": "stream",
     "text": [
      "Dataset URL: https://www.kaggle.com/datasets/altavish/boston-housing-dataset\n"
     ]
    }
   ],
   "source": [
    "dataset = 'altavish/boston-housing-dataset'\n",
    "kaggle.api.dataset_download_files(dataset, path='./', unzip=True)\n",
    "df = pd.read_csv('HousingData.csv')\n",
    "os.remove('./HousingData.csv')\n",
    "df = df.dropna()\n"
   ]
  },
  {
   "cell_type": "markdown",
   "id": "9ba97c6079f07d56",
   "metadata": {},
   "source": [
    "Preprocessing dataset: "
   ]
  },
  {
   "cell_type": "code",
   "execution_count": 9,
   "id": "215bb2779d811b9c",
   "metadata": {
    "ExecuteTime": {
     "end_time": "2024-06-28T10:47:19.586386Z",
     "start_time": "2024-06-28T10:47:19.554510Z"
    }
   },
   "outputs": [],
   "source": [
    "X_train, X_test, y_train, y_test = train_test_split(df, df.iloc[:,-1].astype(int), test_size=0.2, random_state=42)\n",
    "scaler = StandardScaler()\n",
    "X_train = scaler.fit_transform(X_train)\n",
    "X_test = scaler.fit_transform(X_test)\n",
    "X_train = np.hstack((np.ones((X_train.shape[0], 1)), X_train))\n",
    "X_test = np.hstack((np.ones((X_test.shape[0], 1)), X_test))\n"
   ]
  },
  {
   "cell_type": "markdown",
   "id": "c3addca180456665",
   "metadata": {},
   "source": [
    "Defining helper functions"
   ]
  },
  {
   "cell_type": "code",
   "execution_count": 10,
   "id": "c5a667eb756e1a6b",
   "metadata": {
    "ExecuteTime": {
     "end_time": "2024-06-28T10:47:24.480477Z",
     "start_time": "2024-06-28T10:47:24.458544Z"
    }
   },
   "outputs": [],
   "source": [
    "def train_multiple_regression(X, y):\n",
    "    X_transpose = np.transpose(X)\n",
    "    X_transpose_X = np.dot(X_transpose, X)\n",
    "    X_transpose_y = np.dot(X_transpose, y)\n",
    "    weights = np.linalg.inv(X_transpose_X).dot(X_transpose_y)\n",
    "    return weights\n",
    "\n",
    "def predict(X, weights):\n",
    "    return np.dot(X, weights)\n"
   ]
  },
  {
   "cell_type": "markdown",
   "id": "77709ef57b1e88f1",
   "metadata": {},
   "source": [
    "Training the Model: "
   ]
  },
  {
   "cell_type": "code",
   "execution_count": 11,
   "id": "3ea4c7bdfbe61242",
   "metadata": {
    "ExecuteTime": {
     "end_time": "2024-06-28T10:47:28.406913Z",
     "start_time": "2024-06-28T10:47:28.381995Z"
    }
   },
   "outputs": [
    {
     "name": "stdout",
     "output_type": "stream",
     "text": [
      "Mean Squared Error: 3.6533832508866917\n",
      "Weights: [ 2.15714286e+01  2.40771956e-02  3.21029624e-03  8.47338438e-02\n",
      "  2.62464556e-03 -3.94713386e-02  2.88832855e-02  1.20811162e-02\n",
      "  9.86655622e-03  2.81568738e-02 -4.76075354e-02 -4.00220286e-02\n",
      "  7.46278580e-03 -6.08202083e-03  9.08792200e+00]\n"
     ]
    }
   ],
   "source": [
    "weights = train_multiple_regression(X_train, y_train)\n",
    "y_pred = predict(X_test, weights)\n",
    "mse = mean_squared_error(y_test, y_pred)\n",
    "print(f\"Mean Squared Error: {mse}\")\n",
    "print(\"Weights:\", weights)\n"
   ]
  },
  {
   "cell_type": "markdown",
   "id": "1cb832cbbaf30609",
   "metadata": {},
   "source": [
    "Polynomial Regression (Airfoil Dataset): "
   ]
  },
  {
   "cell_type": "markdown",
   "id": "7824acb5",
   "metadata": {},
   "source": [
    "Imports: "
   ]
  },
  {
   "cell_type": "code",
   "execution_count": 13,
   "id": "b609d2f9",
   "metadata": {},
   "outputs": [
    {
     "name": "stdout",
     "output_type": "stream",
     "text": [
      "Collecting ucimlrepo\n",
      "  Using cached ucimlrepo-0.0.7-py3-none-any.whl.metadata (5.5 kB)\n",
      "Requirement already satisfied: pandas>=1.0.0 in c:\\users\\aaditya\\appdata\\local\\programs\\python\\python312\\lib\\site-packages (from ucimlrepo) (2.2.2)\n",
      "Requirement already satisfied: certifi>=2020.12.5 in c:\\users\\aaditya\\appdata\\local\\programs\\python\\python312\\lib\\site-packages (from ucimlrepo) (2024.2.2)\n",
      "Requirement already satisfied: numpy>=1.26.0 in c:\\users\\aaditya\\appdata\\local\\programs\\python\\python312\\lib\\site-packages (from pandas>=1.0.0->ucimlrepo) (1.26.4)\n",
      "Requirement already satisfied: python-dateutil>=2.8.2 in c:\\users\\aaditya\\appdata\\local\\programs\\python\\python312\\lib\\site-packages (from pandas>=1.0.0->ucimlrepo) (2.9.0.post0)\n",
      "Requirement already satisfied: pytz>=2020.1 in c:\\users\\aaditya\\appdata\\local\\programs\\python\\python312\\lib\\site-packages (from pandas>=1.0.0->ucimlrepo) (2024.1)\n",
      "Requirement already satisfied: tzdata>=2022.7 in c:\\users\\aaditya\\appdata\\local\\programs\\python\\python312\\lib\\site-packages (from pandas>=1.0.0->ucimlrepo) (2024.1)\n",
      "Requirement already satisfied: six>=1.5 in c:\\users\\aaditya\\appdata\\local\\programs\\python\\python312\\lib\\site-packages (from python-dateutil>=2.8.2->pandas>=1.0.0->ucimlrepo) (1.16.0)\n",
      "Using cached ucimlrepo-0.0.7-py3-none-any.whl (8.0 kB)\n",
      "Installing collected packages: ucimlrepo\n",
      "Successfully installed ucimlrepo-0.0.7\n",
      "Note: you may need to restart the kernel to use updated packages.\n"
     ]
    },
    {
     "name": "stderr",
     "output_type": "stream",
     "text": [
      "\n",
      "[notice] A new release of pip is available: 24.0 -> 24.1.1\n",
      "[notice] To update, run: python.exe -m pip install --upgrade pip\n"
     ]
    }
   ],
   "source": [
    "pip install ucimlrepo"
   ]
  },
  {
   "cell_type": "code",
   "execution_count": 119,
   "id": "b00d4bc28ca3f41",
   "metadata": {},
   "outputs": [],
   "source": [
    "from sklearn.model_selection import train_test_split\n",
    "import pandas as pd\n"
   ]
  },
  {
   "cell_type": "markdown",
   "id": "dd635dd2",
   "metadata": {},
   "source": [
    "Ploynomial Regression Model (AirFoil Dataset)"
   ]
  },
  {
   "cell_type": "markdown",
   "id": "eb464e77",
   "metadata": {},
   "source": [
    "Loading the Airfoil Dataset"
   ]
  },
  {
   "cell_type": "code",
   "execution_count": 120,
   "id": "11dfcd96",
   "metadata": {},
   "outputs": [],
   "source": [
    "# Load the Airfoil dataset\n",
    "url = \"https://archive.ics.uci.edu/ml/machine-learning-databases/00291/airfoil_self_noise.dat\"\n",
    "column_names = [\"Frequency\", \"Angle of Attack\", \"Chord Length\", \"Free-stream Velocity\", \"Suction Side Displacement Thickness\", \"Sound Pressure Level\"]\n",
    "df = pd.read_csv(url, sep=\"\\t\", header=None, names=column_names)\n",
    "X = df.iloc[:, :-1].values  # Convert to numpy array\n",
    "y = df.iloc[:, -1].values   # Convert to numpy array\n",
    "X_train, X_test, y_train, y_test = train_test_split(X, y, test_size=0.2, random_state=42)\n"
   ]
  },
  {
   "cell_type": "markdown",
   "id": "8c4b61b8",
   "metadata": {},
   "source": [
    "Defining functions"
   ]
  },
  {
   "cell_type": "code",
   "execution_count": 121,
   "id": "70728f9d",
   "metadata": {},
   "outputs": [],
   "source": [
    "\n",
    "# Function to create polynomial features\n",
    "def create_polynomial_features(X, degree):\n",
    "    n_features = X.shape\n",
    "    X_polynomial = X.copy()\n",
    "    \n",
    "    for i in range(2, degree + 1):\n",
    "        for j in range(n_features):\n",
    "            X_polynomial = np.hstack((X_polynomial, (X[:, j] ** i).reshape(-1, 1)))\n",
    "    \n",
    "    return X_polynomial\n",
    "\n",
    "# Function to fit polynomial regression\n",
    "def fit_polynomial_regression(X, y, degree):\n",
    "    X_polynomial = create_polynomial_features(X, degree)\n",
    "    #Adding intercept form to the polynomial\n",
    "    X_polynomial = np.hstack((np.ones((X_polynomial.shape[0], 1)), X_polynomial))\n",
    "    '''Coefficients are important to get the best fit equation\n",
    "    These coefficients are given by normal function :\n",
    "    Theta (⊝) = ((X^T)*(y))/(X^T * X) ------ ($)\n",
    "    '''\n",
    "    coefficients = np.linalg.inv(X_polynomial.T @ X_polynomial) @ X_polynomial.T @ y\n",
    "    '''The np.linalg.inv computes inverse of a matrix\n",
    "    The @ is the multiplication operator in python after Python 3.5\n",
    "    (I here used Python 3.12.3)\n",
    "    X_polynomial.T @ X_polynomial give the dot product of Transpose of \n",
    "    X_polynomial and X_polynomial'''\n",
    "    #For a better understanding read the equation in marked with '$' from left to right\n",
    "    # and the line of code corresponding to this equation marked with '&' from right to left\n",
    "    return coefficients\n",
    "\n",
    "# Function to predict using polynomial regression\n",
    "def predict_polynomial_regression(X, coefficients, degree):\n",
    "    X_polynomial = create_polynomial_features(X, degree)\n",
    "    #Adding intercept to the polynomial created in the above line of code\n",
    "    X_polynomial = np.hstack((np.ones((X_polynomial.shape[0], 1)), X_polynomial))\n",
    "    \n",
    "    return X_polynomial @ coefficients\n",
    "\n",
    "# Function to calculate mean squared error\n",
    "def mse(y_true, y_pred):\n",
    "    return np.mean((y_true - y_pred) ** 2)\n"
   ]
  },
  {
   "cell_type": "markdown",
   "id": "fe814781",
   "metadata": {},
   "source": [
    "Fiting the Polynomial Regression Model: "
   ]
  },
  {
   "cell_type": "code",
   "execution_count": 122,
   "id": "cc9e3238",
   "metadata": {},
   "outputs": [
    {
     "name": "stdout",
     "output_type": "stream",
     "text": [
      "The mean squared error associated with fitting the polynomial regression model was found to be 21.922857179735153\n"
     ]
    }
   ],
   "source": [
    "# Normalize the features\n",
    "X_train = (X_train - X_train.mean(axis=0)) / X_train.std(axis=0)\n",
    "X_test = (X_test - X_test.mean(axis=0)) / X_test.std(axis=0)\n",
    "\n",
    "# Fit the polynomial regression model\n",
    "degree = 2\n",
    "coefficients = fit_polynomial_regression(X_train, y_train, degree)\n",
    "\n",
    "# Predict using the polynomial regression model\n",
    "predictions = predict_polynomial_regression(X_test, coefficients, degree)\n",
    "\n",
    "# Calculate mean squared error\n",
    "error = mse(y_test, predictions)\n",
    "print(f\"The mean squared error associated with fitting the polynomial regression model was found to be {error}\")"
   ]
  }
 ],
 "metadata": {
  "kernelspec": {
   "display_name": "Python 3",
   "language": "python",
   "name": "python3"
  },
  "language_info": {
   "codemirror_mode": {
    "name": "ipython",
    "version": 3
   },
   "file_extension": ".py",
   "mimetype": "text/x-python",
   "name": "python",
   "nbconvert_exporter": "python",
   "pygments_lexer": "ipython3",
   "version": "3.12.3"
  }
 },
 "nbformat": 4,
 "nbformat_minor": 5
}
