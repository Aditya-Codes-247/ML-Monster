{
 "cells": [
  {
   "cell_type": "markdown",
   "metadata": {},
   "source": [
    "A Perceptron is a type of neural network where the activation function is a step function, and it's generally used for binary classification tasks."
   ]
  },
  {
   "cell_type": "markdown",
   "metadata": {},
   "source": [
    "Imports"
   ]
  },
  {
   "cell_type": "code",
   "execution_count": 1,
   "metadata": {},
   "outputs": [],
   "source": [
    "import numpy as np"
   ]
  },
  {
   "cell_type": "markdown",
   "metadata": {},
   "source": [
    "Defining class"
   ]
  },
  {
   "cell_type": "code",
   "execution_count": 11,
   "metadata": {},
   "outputs": [],
   "source": [
    "class Perceptron:\n",
    "    def __init__(self, input_size, learning_rate=0.01, epochs=10000):\n",
    "        self.weights = np.zeros(input_size + 1)  # +1 for bias\n",
    "        self.learning_rate = learning_rate\n",
    "        self.epochs = epochs\n",
    "\n",
    "    def activation_function(self, x):\n",
    "        return 1 if x >= 0 else 0\n",
    "\n",
    "    def predict(self, x):\n",
    "        z = self.weights.T.dot(x)\n",
    "        return self.activation_function(z)\n",
    "\n",
    "    def train(self, X, y):\n",
    "        for _ in range(self.epochs):\n",
    "            for inputs, label in zip(X, y):\n",
    "                inputs = np.insert(inputs, 0, 1)  # Insert 1 for bias weight\n",
    "                prediction = self.predict(inputs)\n",
    "                self.weights += self.learning_rate * (label - prediction) * inputs\n",
    "\n",
    "    def evaluate(self, X, y):\n",
    "        predictions = [self.predict(np.insert(inputs, 0, 1)) for inputs in X]\n",
    "        accuracy = np.mean(np.array(predictions) == y)\n",
    "        return accuracy\n"
   ]
  },
  {
   "cell_type": "markdown",
   "metadata": {},
   "source": [
    "Using the perceptron we defined above on the truth table or OR Logical Gate: "
   ]
  },
  {
   "cell_type": "code",
   "execution_count": 12,
   "metadata": {},
   "outputs": [],
   "source": [
    "X = np.array([[0, 0], [0, 1], [1, 0], [1, 1]])\n",
    "y = np.array([0, 1, 1, 1])  # OR gate output\n",
    "#Below we declare an object of Perceptron Class, this will allow us to make use all the methods (functions) of the class on this object\n",
    "perceptron = Perceptron(input_size=2, learning_rate=0.1, epochs=10)\n",
    "\n",
    "perceptron.train(X, y)"
   ]
  },
  {
   "cell_type": "markdown",
   "metadata": {},
   "source": [
    "Testing the Perceptron:"
   ]
  },
  {
   "cell_type": "code",
   "execution_count": 13,
   "metadata": {},
   "outputs": [
    {
     "name": "stdout",
     "output_type": "stream",
     "text": [
      "Input: [0 0] -> Output: 0\n",
      "Input: [0 1] -> Output: 1\n",
      "Input: [1 0] -> Output: 1\n",
      "Input: [1 1] -> Output: 1\n"
     ]
    }
   ],
   "source": [
    "for inputs in X:\n",
    "    result = perceptron.predict(np.insert(inputs, 0, 1))  # Insert 1 for bias weight\n",
    "    print(f\"Input: {inputs} -> Output: {result}\")"
   ]
  },
  {
   "cell_type": "markdown",
   "metadata": {},
   "source": [
    "Evalutating the Perceptron:"
   ]
  },
  {
   "cell_type": "code",
   "execution_count": 14,
   "metadata": {},
   "outputs": [
    {
     "name": "stdout",
     "output_type": "stream",
     "text": [
      "Accuracy: 100.0%\n"
     ]
    }
   ],
   "source": [
    "accuracy = perceptron.evaluate(X, y)\n",
    "print(f\"Accuracy: {accuracy * 100}%\")"
   ]
  },
  {
   "cell_type": "markdown",
   "metadata": {},
   "source": [
    "So, obviously we have a 100% accuracy in this case as the perceptron here as the OR gate is a linearly separable problem, which means a single-layer Perceptron can perfectly classify it."
   ]
  }
 ],
 "metadata": {
  "kernelspec": {
   "display_name": "Python 3",
   "language": "python",
   "name": "python3"
  },
  "language_info": {
   "codemirror_mode": {
    "name": "ipython",
    "version": 3
   },
   "file_extension": ".py",
   "mimetype": "text/x-python",
   "name": "python",
   "nbconvert_exporter": "python",
   "pygments_lexer": "ipython3",
   "version": "3.12.3"
  }
 },
 "nbformat": 4,
 "nbformat_minor": 2
}
