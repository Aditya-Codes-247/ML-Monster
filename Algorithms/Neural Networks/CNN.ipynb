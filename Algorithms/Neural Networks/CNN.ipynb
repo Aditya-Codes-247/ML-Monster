{
 "cells": [
  {
   "cell_type": "markdown",
   "metadata": {},
   "source": [
    "Convolutional Neural Network From Scratch (MNIST Dataset)"
   ]
  },
  {
   "cell_type": "markdown",
   "metadata": {},
   "source": [
    "Componenets :\n",
    "1. Convolutional Layer\n",
    "2. Reshape Layer\n",
    "3. Binary Cross Entropy Loss\n",
    "4. Sigmoid Activation\n"
   ]
  },
  {
   "cell_type": "code",
   "execution_count": null,
   "metadata": {},
   "outputs": [],
   "source": []
  }
 ],
 "metadata": {
  "language_info": {
   "name": "python"
  }
 },
 "nbformat": 4,
 "nbformat_minor": 2
}
